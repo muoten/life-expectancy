{
 "cells": [
  {
   "cell_type": "markdown",
   "metadata": {},
   "source": [
    "# Linear Regression models for Longitudinal data \n",
    "\n",
    "### Life expectancy vs Health expenditure\n",
    "\n",
    "Goals: \n",
    "- analyze life expectancy in relation to health expenditure\n",
    "- compare different linear regression models and python implementations\n",
    "\n",
    "Data Sources:\n",
    "- Life expectancy: OurWorldInData, https://ourworldindata.org/grapher/life-expectancy?time=..&country=~OWID_WRL\n",
    "- Health expenditure: WHO's Global Health Expenditure Database (GHED), http://apps.who.int/nha/database/Home/IndicatorsDownload/en\n",
    "  \n",
    "Libraries\n",
    "- linear regression implementations: `scikit-learn`, `statsmodel`, `linearmodels`\n",
    "- visualization: `matplotlib`, `seaborn`\n",
    "- other libraries: `pandas`, `numpy`, `scipy`\n",
    "\n",
    "### Step 1: Load and prepare data\n",
    "#### 1.1.- Load data from `life-expectancy.csv`"
   ]
  },
  {
   "cell_type": "code",
   "execution_count": 1,
   "metadata": {},
   "outputs": [
    {
     "data": {
      "text/html": [
       "<div>\n",
       "<style scoped>\n",
       "    .dataframe tbody tr th:only-of-type {\n",
       "        vertical-align: middle;\n",
       "    }\n",
       "\n",
       "    .dataframe tbody tr th {\n",
       "        vertical-align: top;\n",
       "    }\n",
       "\n",
       "    .dataframe thead th {\n",
       "        text-align: right;\n",
       "    }\n",
       "</style>\n",
       "<table border=\"1\" class=\"dataframe\">\n",
       "  <thead>\n",
       "    <tr style=\"text-align: right;\">\n",
       "      <th></th>\n",
       "      <th>Entity</th>\n",
       "      <th>Code</th>\n",
       "      <th>Year</th>\n",
       "      <th>Life expectancy (years)</th>\n",
       "    </tr>\n",
       "  </thead>\n",
       "  <tbody>\n",
       "    <tr>\n",
       "      <th>0</th>\n",
       "      <td>Afghanistan</td>\n",
       "      <td>AFG</td>\n",
       "      <td>1950</td>\n",
       "      <td>27.638</td>\n",
       "    </tr>\n",
       "    <tr>\n",
       "      <th>1</th>\n",
       "      <td>Afghanistan</td>\n",
       "      <td>AFG</td>\n",
       "      <td>1951</td>\n",
       "      <td>27.878</td>\n",
       "    </tr>\n",
       "    <tr>\n",
       "      <th>2</th>\n",
       "      <td>Afghanistan</td>\n",
       "      <td>AFG</td>\n",
       "      <td>1952</td>\n",
       "      <td>28.361</td>\n",
       "    </tr>\n",
       "    <tr>\n",
       "      <th>3</th>\n",
       "      <td>Afghanistan</td>\n",
       "      <td>AFG</td>\n",
       "      <td>1953</td>\n",
       "      <td>28.852</td>\n",
       "    </tr>\n",
       "    <tr>\n",
       "      <th>4</th>\n",
       "      <td>Afghanistan</td>\n",
       "      <td>AFG</td>\n",
       "      <td>1954</td>\n",
       "      <td>29.350</td>\n",
       "    </tr>\n",
       "    <tr>\n",
       "      <th>...</th>\n",
       "      <td>...</td>\n",
       "      <td>...</td>\n",
       "      <td>...</td>\n",
       "      <td>...</td>\n",
       "    </tr>\n",
       "    <tr>\n",
       "      <th>19023</th>\n",
       "      <td>Zimbabwe</td>\n",
       "      <td>ZWE</td>\n",
       "      <td>2015</td>\n",
       "      <td>59.534</td>\n",
       "    </tr>\n",
       "    <tr>\n",
       "      <th>19024</th>\n",
       "      <td>Zimbabwe</td>\n",
       "      <td>ZWE</td>\n",
       "      <td>2016</td>\n",
       "      <td>60.294</td>\n",
       "    </tr>\n",
       "    <tr>\n",
       "      <th>19025</th>\n",
       "      <td>Zimbabwe</td>\n",
       "      <td>ZWE</td>\n",
       "      <td>2017</td>\n",
       "      <td>60.812</td>\n",
       "    </tr>\n",
       "    <tr>\n",
       "      <th>19026</th>\n",
       "      <td>Zimbabwe</td>\n",
       "      <td>ZWE</td>\n",
       "      <td>2018</td>\n",
       "      <td>61.195</td>\n",
       "    </tr>\n",
       "    <tr>\n",
       "      <th>19027</th>\n",
       "      <td>Zimbabwe</td>\n",
       "      <td>ZWE</td>\n",
       "      <td>2019</td>\n",
       "      <td>61.490</td>\n",
       "    </tr>\n",
       "  </tbody>\n",
       "</table>\n",
       "<p>19028 rows × 4 columns</p>\n",
       "</div>"
      ],
      "text/plain": [
       "            Entity Code  Year  Life expectancy (years)\n",
       "0      Afghanistan  AFG  1950                   27.638\n",
       "1      Afghanistan  AFG  1951                   27.878\n",
       "2      Afghanistan  AFG  1952                   28.361\n",
       "3      Afghanistan  AFG  1953                   28.852\n",
       "4      Afghanistan  AFG  1954                   29.350\n",
       "...            ...  ...   ...                      ...\n",
       "19023     Zimbabwe  ZWE  2015                   59.534\n",
       "19024     Zimbabwe  ZWE  2016                   60.294\n",
       "19025     Zimbabwe  ZWE  2017                   60.812\n",
       "19026     Zimbabwe  ZWE  2018                   61.195\n",
       "19027     Zimbabwe  ZWE  2019                   61.490\n",
       "\n",
       "[19028 rows x 4 columns]"
      ]
     },
     "execution_count": 1,
     "metadata": {},
     "output_type": "execute_result"
    }
   ],
   "source": [
    "FILENAME=\"data/life-expectancy.csv\"\n",
    "import pandas as pd\n",
    "df_y = pd.read_csv(FILENAME)\n",
    "df_y"
   ]
  },
  {
   "cell_type": "markdown",
   "metadata": {},
   "source": [
    "#### 1.2.- Load data from `health-expenditure.csv`"
   ]
  },
  {
   "cell_type": "code",
   "execution_count": 2,
   "metadata": {},
   "outputs": [
    {
     "data": {
      "text/html": [
       "<div>\n",
       "<style scoped>\n",
       "    .dataframe tbody tr th:only-of-type {\n",
       "        vertical-align: middle;\n",
       "    }\n",
       "\n",
       "    .dataframe tbody tr th {\n",
       "        vertical-align: top;\n",
       "    }\n",
       "\n",
       "    .dataframe thead th {\n",
       "        text-align: right;\n",
       "    }\n",
       "</style>\n",
       "<table border=\"1\" class=\"dataframe\">\n",
       "  <thead>\n",
       "    <tr style=\"text-align: right;\">\n",
       "      <th></th>\n",
       "      <th>Country Name</th>\n",
       "      <th>Country Code</th>\n",
       "      <th>Indicator Code</th>\n",
       "      <th>Year</th>\n",
       "      <th>Value</th>\n",
       "    </tr>\n",
       "  </thead>\n",
       "  <tbody>\n",
       "    <tr>\n",
       "      <th>0</th>\n",
       "      <td>Antigua and Barbuda</td>\n",
       "      <td>ATG</td>\n",
       "      <td>sha11.HF</td>\n",
       "      <td>2000.0</td>\n",
       "      <td>444.939432</td>\n",
       "    </tr>\n",
       "    <tr>\n",
       "      <th>1</th>\n",
       "      <td>Antigua and Barbuda</td>\n",
       "      <td>ATG</td>\n",
       "      <td>sha11.HF</td>\n",
       "      <td>2001.0</td>\n",
       "      <td>497.096598</td>\n",
       "    </tr>\n",
       "    <tr>\n",
       "      <th>2</th>\n",
       "      <td>Antigua and Barbuda</td>\n",
       "      <td>ATG</td>\n",
       "      <td>sha11.HF</td>\n",
       "      <td>2002.0</td>\n",
       "      <td>512.317693</td>\n",
       "    </tr>\n",
       "    <tr>\n",
       "      <th>3</th>\n",
       "      <td>Antigua and Barbuda</td>\n",
       "      <td>ATG</td>\n",
       "      <td>sha11.HF</td>\n",
       "      <td>2003.0</td>\n",
       "      <td>569.649036</td>\n",
       "    </tr>\n",
       "    <tr>\n",
       "      <th>4</th>\n",
       "      <td>Antigua and Barbuda</td>\n",
       "      <td>ATG</td>\n",
       "      <td>sha11.HF</td>\n",
       "      <td>2004.0</td>\n",
       "      <td>547.871067</td>\n",
       "    </tr>\n",
       "    <tr>\n",
       "      <th>...</th>\n",
       "      <td>...</td>\n",
       "      <td>...</td>\n",
       "      <td>...</td>\n",
       "      <td>...</td>\n",
       "      <td>...</td>\n",
       "    </tr>\n",
       "    <tr>\n",
       "      <th>96522</th>\n",
       "      <td>Malawi</td>\n",
       "      <td>MWI</td>\n",
       "      <td>sha11.DIS.2.1_ext</td>\n",
       "      <td>2015.0</td>\n",
       "      <td>0.165924</td>\n",
       "    </tr>\n",
       "    <tr>\n",
       "      <th>96523</th>\n",
       "      <td>Malawi</td>\n",
       "      <td>MWI</td>\n",
       "      <td>sha11.DIS.2.1_ext</td>\n",
       "      <td>2016.0</td>\n",
       "      <td>0.144373</td>\n",
       "    </tr>\n",
       "    <tr>\n",
       "      <th>96524</th>\n",
       "      <td>Cambodia</td>\n",
       "      <td>KHM</td>\n",
       "      <td>sha11.DIS.2.1_ext</td>\n",
       "      <td>2015.0</td>\n",
       "      <td>0.978661</td>\n",
       "    </tr>\n",
       "    <tr>\n",
       "      <th>96525</th>\n",
       "      <td>Cambodia</td>\n",
       "      <td>KHM</td>\n",
       "      <td>sha11.DIS.2.1_ext</td>\n",
       "      <td>2016.0</td>\n",
       "      <td>1.179586</td>\n",
       "    </tr>\n",
       "    <tr>\n",
       "      <th>96526</th>\n",
       "      <td>Cambodia</td>\n",
       "      <td>KHM</td>\n",
       "      <td>sha11.DIS.2.1_ext</td>\n",
       "      <td>2017.0</td>\n",
       "      <td>1.228633</td>\n",
       "    </tr>\n",
       "  </tbody>\n",
       "</table>\n",
       "<p>96527 rows × 5 columns</p>\n",
       "</div>"
      ],
      "text/plain": [
       "              Country Name Country Code     Indicator Code    Year       Value\n",
       "0      Antigua and Barbuda          ATG           sha11.HF  2000.0  444.939432\n",
       "1      Antigua and Barbuda          ATG           sha11.HF  2001.0  497.096598\n",
       "2      Antigua and Barbuda          ATG           sha11.HF  2002.0  512.317693\n",
       "3      Antigua and Barbuda          ATG           sha11.HF  2003.0  569.649036\n",
       "4      Antigua and Barbuda          ATG           sha11.HF  2004.0  547.871067\n",
       "...                    ...          ...                ...     ...         ...\n",
       "96522               Malawi          MWI  sha11.DIS.2.1_ext  2015.0    0.165924\n",
       "96523               Malawi          MWI  sha11.DIS.2.1_ext  2016.0    0.144373\n",
       "96524             Cambodia          KHM  sha11.DIS.2.1_ext  2015.0    0.978661\n",
       "96525             Cambodia          KHM  sha11.DIS.2.1_ext  2016.0    1.179586\n",
       "96526             Cambodia          KHM  sha11.DIS.2.1_ext  2017.0    1.228633\n",
       "\n",
       "[96527 rows x 5 columns]"
      ]
     },
     "execution_count": 2,
     "metadata": {},
     "output_type": "execute_result"
    }
   ],
   "source": [
    "df_x = pd.read_csv('data/health_expenditure.csv', sep='|')\n",
    "df_x"
   ]
  },
  {
   "cell_type": "markdown",
   "metadata": {},
   "source": [
    "#### 1.3.- Clean NaN, adapt columns and merge into a single dataframe"
   ]
  },
  {
   "cell_type": "code",
   "execution_count": 3,
   "metadata": {},
   "outputs": [
    {
     "name": "stdout",
     "output_type": "stream",
     "text": [
      "<class 'pandas.core.frame.DataFrame'>\n",
      "Int64Index: 3050 entries, 0 to 3049\n",
      "Data columns (total 6 columns):\n",
      "Entity                     3050 non-null object\n",
      "Code                       3050 non-null object\n",
      "Indicator Code             3050 non-null object\n",
      "Year                       3050 non-null int64\n",
      "Health expenditure         3050 non-null float64\n",
      "Life expectancy (years)    3050 non-null float64\n",
      "dtypes: float64(2), int64(1), object(3)\n",
      "memory usage: 166.8+ KB\n"
     ]
    }
   ],
   "source": [
    "# skip rows with (how=any) null values\n",
    "df_x = df_x.dropna()\n",
    "df_x.columns = ['Entity', 'Code', 'Indicator Code','Year', 'Health expenditure']\n",
    "df_x = df_x.astype({'Year':'int64'})\n",
    "df_x = df_x[df_x[\"Indicator Code\"] == 'sha11.HF']\n",
    "df_x.columns = ['Entity', 'Code', 'Indicator Code','Year', 'Health expenditure']\n",
    "df_xy = df_x.merge(df_y)\n",
    "df_xy.info()"
   ]
  },
  {
   "cell_type": "markdown",
   "metadata": {},
   "source": [
    "### Step 2: Explore the data\n",
    "#### 2.1.- Visualization\n",
    "\n",
    "Histograms in diagonal. Scatterplot off diagonal"
   ]
  },
  {
   "cell_type": "code",
   "execution_count": 4,
   "metadata": {},
   "outputs": [
    {
     "data": {
      "image/png": "[encoded data removed]",
      "text/plain": [
       "<Figure size 360x360 with 6 Axes>"
      ]
     },
     "metadata": {
      "needs_background": "light"
     },
     "output_type": "display_data"
    }
   ],
   "source": [
    "import seaborn as sns\n",
    "import matplotlib.pyplot as plt\n",
    "g = sns.PairGrid(df_xy, vars=[\"Health expenditure\", \"Life expectancy (years)\"])\n",
    "g = g.map_diag(plt.hist, edgecolor=\"w\", bins=20)\n",
    "g = g.map_offdiag(plt.scatter, edgecolor=\"w\", s=10)"
   ]
  },
  {
   "cell_type": "markdown",
   "metadata": {},
   "source": [
    "According to the charts, it seems that health expenditure is associated with increase in life expectancy. Though it seems the relation is not linear. So let's assume life expectancy is associated with increase in logarithm of health expenditure. And compare correlations\n",
    "\n",
    "#### 2.2.- Correlations. Linear vs log-transformed\n"
   ]
  },
  {
   "cell_type": "code",
   "execution_count": 5,
   "metadata": {},
   "outputs": [
    {
     "name": "stdout",
     "output_type": "stream",
     "text": [
      "[[1.         0.57565989]\n",
      " [0.57565989 1.        ]]\n"
     ]
    }
   ],
   "source": [
    "import numpy as np\n",
    "corr = np.corrcoef(df_xy['Life expectancy (years)'], df_xy['Health expenditure'])\n",
    "print(corr)"
   ]
  },
  {
   "cell_type": "code",
   "execution_count": 6,
   "metadata": {},
   "outputs": [
    {
     "name": "stdout",
     "output_type": "stream",
     "text": [
      "[[1.         0.80981449]\n",
      " [0.80981449 1.        ]]\n"
     ]
    }
   ],
   "source": [
    "corr = np.corrcoef(df_xy['Life expectancy (years)'], np.log(df_xy['Health expenditure']))\n",
    "print(corr)"
   ]
  },
  {
   "cell_type": "markdown",
   "metadata": {},
   "source": [
    "Our assumption make sense. Let's add to `df_xy` the new variable `health_expenditure_log` with the logarithmic transformation of Health expenditure. And visualize again histograms and relationships between variables"
   ]
  },
  {
   "cell_type": "code",
   "execution_count": 7,
   "metadata": {},
   "outputs": [
    {
     "data": {
      "image/png": "[encoded data removed]",
      "text/plain": [
       "<Figure size 360x360 with 6 Axes>"
      ]
     },
     "metadata": {
      "needs_background": "light"
     },
     "output_type": "display_data"
    }
   ],
   "source": [
    "df_xy['health_expenditure_log'] = np.log(df_xy['Health expenditure'])\n",
    "g = sns.PairGrid(df_xy, vars=[\"health_expenditure_log\", \"Life expectancy (years)\"])\n",
    "g = g.map_diag(plt.hist, edgecolor=\"w\", bins=20)\n",
    "g = g.map_offdiag(plt.scatter, edgecolor=\"w\", s=10)"
   ]
  },
  {
   "cell_type": "markdown",
   "metadata": {},
   "source": [
    "### Step 3: Linear Regression (Ordinary Least Squares)\n",
    "#### 3.1.- Statsmodels implementation\n",
    "\n",
    "First model: statsmodel.api.OLS with default parameters (no intercept)"
   ]
  },
  {
   "cell_type": "code",
   "execution_count": 8,
   "metadata": {},
   "outputs": [
    {
     "name": "stdout",
     "output_type": "stream",
     "text": [
      "                                   OLS Regression Results                                   \n",
      "============================================================================================\n",
      "Dep. Variable:     Life expectancy (years)   R-squared (uncentered):                   0.957\n",
      "Model:                                 OLS   Adj. R-squared (uncentered):              0.957\n",
      "Method:                      Least Squares   F-statistic:                          6.739e+04\n",
      "Date:                     Mon, 13 Jul 2020   Prob (F-statistic):                        0.00\n",
      "Time:                             22:13:49   Log-Likelihood:                         -12513.\n",
      "No. Observations:                     3050   AIC:                                  2.503e+04\n",
      "Df Residuals:                         3049   BIC:                                  2.503e+04\n",
      "Df Model:                                1                                                  \n",
      "Covariance Type:                 nonrobust                                                  \n",
      "==============================================================================\n",
      "                 coef    std err          t      P>|t|      [0.025      0.975]\n",
      "------------------------------------------------------------------------------\n",
      "x1            11.9496      0.046    259.587      0.000      11.859      12.040\n",
      "==============================================================================\n",
      "Omnibus:                      129.474   Durbin-Watson:                   0.126\n",
      "Prob(Omnibus):                  0.000   Jarque-Bera (JB):               56.315\n",
      "Skew:                          -0.061   Prob(JB):                     5.91e-13\n",
      "Kurtosis:                       2.346   Cond. No.                         1.00\n",
      "==============================================================================\n",
      "\n",
      "Warnings:\n",
      "[1] Standard Errors assume that the covariance matrix of the errors is correctly specified.\n"
     ]
    }
   ],
   "source": [
    "import statsmodels.api as sm\n",
    "x = df_xy.loc[:,'health_expenditure_log'].values.reshape(-1,1)\n",
    "y = df_xy.loc[:,'Life expectancy (years)']\n",
    "\n",
    "model = sm.OLS(y, x)\n",
    "results = model.fit()\n",
    "\n",
    "print(results.summary())"
   ]
  },
  {
   "cell_type": "markdown",
   "metadata": {},
   "source": [
    "The coefficient of Determination (R-squared) of 0.957 seems surprisingly high. With a standard error of 0.0460. Specially taking into account that no intercept is considered by default. And we don't expect life expectancies of 0 years for low health expenditure values.\n",
    "\n",
    "Let's represent the data and model..."
   ]
  },
  {
   "cell_type": "code",
   "execution_count": 9,
   "metadata": {},
   "outputs": [
    {
     "data": {
      "image/png": "[encoded data removed]",
      "text/plain": [
       "<Figure size 432x288 with 1 Axes>"
      ]
     },
     "metadata": {
      "needs_background": "light"
     },
     "output_type": "display_data"
    }
   ],
   "source": [
    "from statsmodels.sandbox.regression.predstd import wls_prediction_std\n",
    "def plot_results(results):\n",
    "    prstd, iv_l, iv_u = wls_prediction_std(results)\n",
    "\n",
    "    fig, ax = plt.subplots(figsize=(6,4))\n",
    "\n",
    "    plt.xlabel('Health expenditure (log)')\n",
    "    plt.ylabel('Life expectancy (years)')\n",
    "    plt.xlim(0,10)\n",
    "\n",
    "    ax.plot(x, y, 'o', label=\"data\")\n",
    "    ax.plot(x, results.fittedvalues, 'r--.', label=\"OLS\")\n",
    "    ax.plot(x, iv_u, 'r--')\n",
    "    ax.plot(x, iv_l, 'r--')\n",
    "    ax.legend(loc='best');\n",
    "plot_results(results)"
   ]
  },
  {
   "cell_type": "markdown",
   "metadata": {},
   "source": [
    "It doesn't seem our model is actually fitting the data. Let's try again by adding the intercept component"
   ]
  },
  {
   "cell_type": "code",
   "execution_count": 10,
   "metadata": {},
   "outputs": [
    {
     "name": "stdout",
     "output_type": "stream",
     "text": [
      "                               OLS Regression Results                              \n",
      "===================================================================================\n",
      "Dep. Variable:     Life expectancy (years)   R-squared:                       0.656\n",
      "Model:                                 OLS   Adj. R-squared:                  0.656\n",
      "Method:                      Least Squares   F-statistic:                     5807.\n",
      "Date:                     Mon, 13 Jul 2020   Prob (F-statistic):               0.00\n",
      "Time:                             22:13:50   Log-Likelihood:                -9442.5\n",
      "No. Observations:                     3050   AIC:                         1.889e+04\n",
      "Df Residuals:                         3048   BIC:                         1.890e+04\n",
      "Df Model:                                1                                         \n",
      "Covariance Type:                 nonrobust                                         \n",
      "==============================================================================\n",
      "                 coef    std err          t      P>|t|      [0.025      0.975]\n",
      "------------------------------------------------------------------------------\n",
      "const         45.9728      0.327    140.634      0.000      45.332      46.614\n",
      "x1             4.3256      0.057     76.206      0.000       4.214       4.437\n",
      "==============================================================================\n",
      "Omnibus:                      579.513   Durbin-Watson:                   0.115\n",
      "Prob(Omnibus):                  0.000   Jarque-Bera (JB):             1115.481\n",
      "Skew:                          -1.150   Prob(JB):                    5.98e-243\n",
      "Kurtosis:                       4.867   Cond. No.                         20.0\n",
      "==============================================================================\n",
      "\n",
      "Warnings:\n",
      "[1] Standard Errors assume that the covariance matrix of the errors is correctly specified.\n"
     ]
    },
    {
     "data": {
      "image/png": "[encoded data removed]",
      "text/plain": [
       "<Figure size 432x288 with 1 Axes>"
      ]
     },
     "metadata": {
      "needs_background": "light"
     },
     "output_type": "display_data"
    }
   ],
   "source": [
    "model = sm.OLS(y, sm.add_constant(x))\n",
    "results = model.fit()\n",
    "print(results.summary())\n",
    "plot_results(results)"
   ]
  },
  {
   "cell_type": "markdown",
   "metadata": {},
   "source": [
    "Now the R-squared has decreased to 0.656. But the line and slope seems to fit much better the data. What could be happening?\n",
    "\n",
    "Let's compare to linearmodels implementation"
   ]
  },
  {
   "cell_type": "markdown",
   "metadata": {},
   "source": [
    "#### 3.2.- linearmodels implementation\n",
    "\n",
    "First model: linearmodels.PooledOLS with default parameters (no intercept)"
   ]
  },
  {
   "cell_type": "code",
   "execution_count": 11,
   "metadata": {},
   "outputs": [
    {
     "data": {
      "text/html": [
       "<table class=\"simpletable\">\n",
       "<caption>PooledOLS Estimation Summary</caption>\n",
       "<tr>\n",
       "  <th>Dep. Variable:</th>     <td>life_expectancy</td> <th>  R-squared:         </th>     <td>0.9567</td>  \n",
       "</tr>\n",
       "<tr>\n",
       "  <th>Estimator:</th>            <td>PooledOLS</td>    <th>  R-squared (Between):</th>    <td>0.9600</td>  \n",
       "</tr>\n",
       "<tr>\n",
       "  <th>No. Observations:</th>       <td>3050</td>       <th>  R-squared (Within):</th>     <td>-2.7660</td> \n",
       "</tr>\n",
       "<tr>\n",
       "  <th>Date:</th>             <td>Mon, Jul 13 2020</td> <th>  R-squared (Overall):</th>    <td>0.9567</td>  \n",
       "</tr>\n",
       "<tr>\n",
       "  <th>Time:</th>                 <td>22:13:50</td>     <th>  Log-likelihood     </th>   <td>-1.251e+04</td>\n",
       "</tr>\n",
       "<tr>\n",
       "  <th>Cov. Estimator:</th>      <td>Unadjusted</td>    <th>                     </th>        <td></td>     \n",
       "</tr>\n",
       "<tr>\n",
       "  <th></th>                          <td></td>         <th>  F-statistic:       </th>    <td>6.739e+04</td>\n",
       "</tr>\n",
       "<tr>\n",
       "  <th>Entities:</th>                <td>172</td>       <th>  P-value            </th>     <td>0.0000</td>  \n",
       "</tr>\n",
       "<tr>\n",
       "  <th>Avg Obs:</th>               <td>17.733</td>      <th>  Distribution:      </th>    <td>F(1,3049)</td>\n",
       "</tr>\n",
       "<tr>\n",
       "  <th>Min Obs:</th>               <td>1.0000</td>      <th>                     </th>        <td></td>     \n",
       "</tr>\n",
       "<tr>\n",
       "  <th>Max Obs:</th>               <td>18.000</td>      <th>  F-statistic (robust):</th>  <td>6.739e+04</td>\n",
       "</tr>\n",
       "<tr>\n",
       "  <th></th>                          <td></td>         <th>  P-value            </th>     <td>0.0000</td>  \n",
       "</tr>\n",
       "<tr>\n",
       "  <th>Time periods:</th>            <td>18</td>        <th>  Distribution:      </th>    <td>F(1,3049)</td>\n",
       "</tr>\n",
       "<tr>\n",
       "  <th>Avg Obs:</th>               <td>169.44</td>      <th>                     </th>        <td></td>     \n",
       "</tr>\n",
       "<tr>\n",
       "  <th>Min Obs:</th>               <td>168.00</td>      <th>                     </th>        <td></td>     \n",
       "</tr>\n",
       "<tr>\n",
       "  <th>Max Obs:</th>               <td>171.00</td>      <th>                     </th>        <td></td>     \n",
       "</tr>\n",
       "<tr>\n",
       "  <th></th>                          <td></td>         <th>                     </th>        <td></td>     \n",
       "</tr>\n",
       "</table>\n",
       "<table class=\"simpletable\">\n",
       "<caption>Parameter Estimates</caption>\n",
       "<tr>\n",
       "             <td></td>            <th>Parameter</th> <th>Std. Err.</th> <th>T-stat</th> <th>P-value</th> <th>Lower CI</th> <th>Upper CI</th>\n",
       "</tr>\n",
       "<tr>\n",
       "  <th>health_expenditure_log</th>  <td>11.950</td>    <td>0.0460</td>   <td>259.59</td> <td>0.0000</td>   <td>11.859</td>   <td>12.040</td> \n",
       "</tr>\n",
       "</table><br/>id: 0x7ff9d9c74f28"
      ],
      "text/plain": [
       "                          PooledOLS Estimation Summary                          \n",
       "================================================================================\n",
       "Dep. Variable:        life_expectancy   R-squared:                        0.9567\n",
       "Estimator:                  PooledOLS   R-squared (Between):              0.9600\n",
       "No. Observations:                3050   R-squared (Within):              -2.7660\n",
       "Date:                Mon, Jul 13 2020   R-squared (Overall):              0.9567\n",
       "Time:                        22:13:50   Log-likelihood                -1.251e+04\n",
       "Cov. Estimator:            Unadjusted                                           \n",
       "                                        F-statistic:                   6.739e+04\n",
       "Entities:                         172   P-value                           0.0000\n",
       "Avg Obs:                       17.733   Distribution:                  F(1,3049)\n",
       "Min Obs:                       1.0000                                           \n",
       "Max Obs:                       18.000   F-statistic (robust):          6.739e+04\n",
       "                                        P-value                           0.0000\n",
       "Time periods:                      18   Distribution:                  F(1,3049)\n",
       "Avg Obs:                       169.44                                           \n",
       "Min Obs:                       168.00                                           \n",
       "Max Obs:                       171.00                                           \n",
       "                                                                                \n",
       "                                   Parameter Estimates                                    \n",
       "==========================================================================================\n",
       "                        Parameter  Std. Err.     T-stat    P-value    Lower CI    Upper CI\n",
       "------------------------------------------------------------------------------------------\n",
       "health_expenditure_log     11.950     0.0460     259.59     0.0000      11.859      12.040\n",
       "==========================================================================================\n",
       "PanelResults, id: 0x7ff9d9c74f28"
      ]
     },
     "execution_count": 11,
     "metadata": {},
     "output_type": "execute_result"
    }
   ],
   "source": [
    "from linearmodels import PooledOLS\n",
    "\n",
    "# MultiIndex, entity - time\n",
    "data = df_xy.set_index(['Entity','Year'])\n",
    "\n",
    "# Create column life_expectancy without spaces to avoid problems with from_formula()\n",
    "data['life_expectancy'] =data['Life expectancy (years)']\n",
    "mod = PooledOLS.from_formula(\"life_expectancy ~ 0+ health_expenditure_log\",data)\n",
    "res = mod.fit()\n",
    "res"
   ]
  },
  {
   "cell_type": "markdown",
   "metadata": {},
   "source": [
    "We get same suspicious 0.957 coefficient of determination. Though in this case we have additional information: `R-squared (Between)` is 0.96 but `R-squared (Within)` is -2.77. According to the corresponding definitions ([Source](https://www.statalist.org/forums/forum/general-stata-discussion/general/1314121-r-squared-within-between-overall)):\n",
    "- The `R-squared (Between)` is \"How much of the variance between separate panel units does my model account for\" Or in other words this computes the fitted values using the\n",
    "fixed-effects parameter vector and the within-individual means of the\n",
    "indepdenent variables.  Then calculates the r-squared as the squared\n",
    "correlation between those predicted values and the within-individual\n",
    "means of the original y variable. [Source](https://www.stata.com/statalist/archive/2006-08/msg00399.html)\n",
    "- The `R-squared (Within)` is \"How much of the variance within the panel units does my model account for\". \n",
    "- And the `R-squared (Overall)` is a weighted average of these two. Or the usual 𝑅2 which you would get from regressing your dependent variable 𝑌𝑖,𝑡 on the explanatory variables 𝑋𝑖,𝑡 ([Source](https://stats.stackexchange.com/questions/79723/interpretation-of-r2-in-fixed-effects-panel-regression))\n",
    "\n"
   ]
  },
  {
   "cell_type": "code",
   "execution_count": 12,
   "metadata": {},
   "outputs": [
    {
     "data": {
      "text/html": [
       "<table class=\"simpletable\">\n",
       "<caption>PooledOLS Estimation Summary</caption>\n",
       "<tr>\n",
       "  <th>Dep. Variable:</th>     <td>life_expectancy</td> <th>  R-squared:         </th>    <td>0.6558</td>  \n",
       "</tr>\n",
       "<tr>\n",
       "  <th>Estimator:</th>            <td>PooledOLS</td>    <th>  R-squared (Between):</th>   <td>0.6697</td>  \n",
       "</tr>\n",
       "<tr>\n",
       "  <th>No. Observations:</th>       <td>3050</td>       <th>  R-squared (Within):</th>    <td>0.4457</td>  \n",
       "</tr>\n",
       "<tr>\n",
       "  <th>Date:</th>             <td>Mon, Jul 13 2020</td> <th>  R-squared (Overall):</th>   <td>0.6558</td>  \n",
       "</tr>\n",
       "<tr>\n",
       "  <th>Time:</th>                 <td>22:13:50</td>     <th>  Log-likelihood     </th>    <td>-9442.5</td> \n",
       "</tr>\n",
       "<tr>\n",
       "  <th>Cov. Estimator:</th>      <td>Unadjusted</td>    <th>                     </th>       <td></td>     \n",
       "</tr>\n",
       "<tr>\n",
       "  <th></th>                          <td></td>         <th>  F-statistic:       </th>    <td>5807.3</td>  \n",
       "</tr>\n",
       "<tr>\n",
       "  <th>Entities:</th>                <td>172</td>       <th>  P-value            </th>    <td>0.0000</td>  \n",
       "</tr>\n",
       "<tr>\n",
       "  <th>Avg Obs:</th>               <td>17.733</td>      <th>  Distribution:      </th>   <td>F(1,3048)</td>\n",
       "</tr>\n",
       "<tr>\n",
       "  <th>Min Obs:</th>               <td>1.0000</td>      <th>                     </th>       <td></td>     \n",
       "</tr>\n",
       "<tr>\n",
       "  <th>Max Obs:</th>               <td>18.000</td>      <th>  F-statistic (robust):</th>  <td>5807.3</td>  \n",
       "</tr>\n",
       "<tr>\n",
       "  <th></th>                          <td></td>         <th>  P-value            </th>    <td>0.0000</td>  \n",
       "</tr>\n",
       "<tr>\n",
       "  <th>Time periods:</th>            <td>18</td>        <th>  Distribution:      </th>   <td>F(1,3048)</td>\n",
       "</tr>\n",
       "<tr>\n",
       "  <th>Avg Obs:</th>               <td>169.44</td>      <th>                     </th>       <td></td>     \n",
       "</tr>\n",
       "<tr>\n",
       "  <th>Min Obs:</th>               <td>168.00</td>      <th>                     </th>       <td></td>     \n",
       "</tr>\n",
       "<tr>\n",
       "  <th>Max Obs:</th>               <td>171.00</td>      <th>                     </th>       <td></td>     \n",
       "</tr>\n",
       "<tr>\n",
       "  <th></th>                          <td></td>         <th>                     </th>       <td></td>     \n",
       "</tr>\n",
       "</table>\n",
       "<table class=\"simpletable\">\n",
       "<caption>Parameter Estimates</caption>\n",
       "<tr>\n",
       "             <td></td>            <th>Parameter</th> <th>Std. Err.</th> <th>T-stat</th> <th>P-value</th> <th>Lower CI</th> <th>Upper CI</th>\n",
       "</tr>\n",
       "<tr>\n",
       "  <th>Intercept</th>               <td>45.973</td>    <td>0.3269</td>   <td>140.63</td> <td>0.0000</td>   <td>45.332</td>   <td>46.614</td> \n",
       "</tr>\n",
       "<tr>\n",
       "  <th>health_expenditure_log</th>  <td>4.3256</td>    <td>0.0568</td>   <td>76.206</td> <td>0.0000</td>   <td>4.2143</td>   <td>4.4369</td> \n",
       "</tr>\n",
       "</table><br/>id: 0x7ff9d987aa90"
      ],
      "text/plain": [
       "                          PooledOLS Estimation Summary                          \n",
       "================================================================================\n",
       "Dep. Variable:        life_expectancy   R-squared:                        0.6558\n",
       "Estimator:                  PooledOLS   R-squared (Between):              0.6697\n",
       "No. Observations:                3050   R-squared (Within):               0.4457\n",
       "Date:                Mon, Jul 13 2020   R-squared (Overall):              0.6558\n",
       "Time:                        22:13:50   Log-likelihood                   -9442.5\n",
       "Cov. Estimator:            Unadjusted                                           \n",
       "                                        F-statistic:                      5807.3\n",
       "Entities:                         172   P-value                           0.0000\n",
       "Avg Obs:                       17.733   Distribution:                  F(1,3048)\n",
       "Min Obs:                       1.0000                                           \n",
       "Max Obs:                       18.000   F-statistic (robust):             5807.3\n",
       "                                        P-value                           0.0000\n",
       "Time periods:                      18   Distribution:                  F(1,3048)\n",
       "Avg Obs:                       169.44                                           \n",
       "Min Obs:                       168.00                                           \n",
       "Max Obs:                       171.00                                           \n",
       "                                                                                \n",
       "                                   Parameter Estimates                                    \n",
       "==========================================================================================\n",
       "                        Parameter  Std. Err.     T-stat    P-value    Lower CI    Upper CI\n",
       "------------------------------------------------------------------------------------------\n",
       "Intercept                  45.973     0.3269     140.63     0.0000      45.332      46.614\n",
       "health_expenditure_log     4.3256     0.0568     76.206     0.0000      4.2143      4.4369\n",
       "==========================================================================================\n",
       "PanelResults, id: 0x7ff9d987aa90"
      ]
     },
     "execution_count": 12,
     "metadata": {},
     "output_type": "execute_result"
    }
   ],
   "source": [
    "mod = PooledOLS.from_formula(\"life_expectancy ~ 1+ health_expenditure_log\",data)\n",
    "res = mod.fit()\n",
    "res"
   ]
  },
  {
   "cell_type": "markdown",
   "metadata": {},
   "source": [
    "As we can see, if we add the intercept of our PooledOLS model we get similar `R-squared (Overall)` as with the last statsmodel OLS execution, 0.656. Moreover, `R-squared (Within)` is still positive, unlike in case of PooledOLS model with no intercept"
   ]
  },
  {
   "cell_type": "markdown",
   "metadata": {},
   "source": [
    "##### 3.2.1.- Fixed Effects Model vs Random Effects Model\n",
    "The *Fixed Effects Model* can be considered like a variant of OLS for longitudinal or panel data where one specific intercept is considered for each Entity (Country) (or time unit). This is similar to consider one dummy (binary) variable for each Entity. Or analogous, describe the Entity as a category or factor codified with [one hot encoding](https://scikit-learn.org/stable/modules/generated/sklearn.preprocessing.OneHotEncoder.html). The Fixed Effects Model is also known as the Within estimator.\n",
    "\n",
    "For linearmodels FixedEffects is implemented in PanelOLS methods"
   ]
  },
  {
   "cell_type": "code",
   "execution_count": 13,
   "metadata": {},
   "outputs": [
    {
     "data": {
      "text/html": [
       "<table class=\"simpletable\">\n",
       "<caption>PanelOLS Estimation Summary</caption>\n",
       "<tr>\n",
       "  <th>Dep. Variable:</th>     <td>life_expectancy</td> <th>  R-squared:         </th>    <td>0.6558</td>  \n",
       "</tr>\n",
       "<tr>\n",
       "  <th>Estimator:</th>            <td>PanelOLS</td>     <th>  R-squared (Between):</th>   <td>0.6697</td>  \n",
       "</tr>\n",
       "<tr>\n",
       "  <th>No. Observations:</th>       <td>3050</td>       <th>  R-squared (Within):</th>    <td>0.4457</td>  \n",
       "</tr>\n",
       "<tr>\n",
       "  <th>Date:</th>             <td>Mon, Jul 13 2020</td> <th>  R-squared (Overall):</th>   <td>0.6558</td>  \n",
       "</tr>\n",
       "<tr>\n",
       "  <th>Time:</th>                 <td>22:13:50</td>     <th>  Log-likelihood     </th>    <td>-9442.5</td> \n",
       "</tr>\n",
       "<tr>\n",
       "  <th>Cov. Estimator:</th>      <td>Unadjusted</td>    <th>                     </th>       <td></td>     \n",
       "</tr>\n",
       "<tr>\n",
       "  <th></th>                          <td></td>         <th>  F-statistic:       </th>    <td>5807.3</td>  \n",
       "</tr>\n",
       "<tr>\n",
       "  <th>Entities:</th>                <td>172</td>       <th>  P-value            </th>    <td>0.0000</td>  \n",
       "</tr>\n",
       "<tr>\n",
       "  <th>Avg Obs:</th>               <td>17.733</td>      <th>  Distribution:      </th>   <td>F(1,3048)</td>\n",
       "</tr>\n",
       "<tr>\n",
       "  <th>Min Obs:</th>               <td>1.0000</td>      <th>                     </th>       <td></td>     \n",
       "</tr>\n",
       "<tr>\n",
       "  <th>Max Obs:</th>               <td>18.000</td>      <th>  F-statistic (robust):</th>  <td>5807.3</td>  \n",
       "</tr>\n",
       "<tr>\n",
       "  <th></th>                          <td></td>         <th>  P-value            </th>    <td>0.0000</td>  \n",
       "</tr>\n",
       "<tr>\n",
       "  <th>Time periods:</th>            <td>18</td>        <th>  Distribution:      </th>   <td>F(1,3048)</td>\n",
       "</tr>\n",
       "<tr>\n",
       "  <th>Avg Obs:</th>               <td>169.44</td>      <th>                     </th>       <td></td>     \n",
       "</tr>\n",
       "<tr>\n",
       "  <th>Min Obs:</th>               <td>168.00</td>      <th>                     </th>       <td></td>     \n",
       "</tr>\n",
       "<tr>\n",
       "  <th>Max Obs:</th>               <td>171.00</td>      <th>                     </th>       <td></td>     \n",
       "</tr>\n",
       "<tr>\n",
       "  <th></th>                          <td></td>         <th>                     </th>       <td></td>     \n",
       "</tr>\n",
       "</table>\n",
       "<table class=\"simpletable\">\n",
       "<caption>Parameter Estimates</caption>\n",
       "<tr>\n",
       "             <td></td>            <th>Parameter</th> <th>Std. Err.</th> <th>T-stat</th> <th>P-value</th> <th>Lower CI</th> <th>Upper CI</th>\n",
       "</tr>\n",
       "<tr>\n",
       "  <th>Intercept</th>               <td>45.973</td>    <td>0.3269</td>   <td>140.63</td> <td>0.0000</td>   <td>45.332</td>   <td>46.614</td> \n",
       "</tr>\n",
       "<tr>\n",
       "  <th>health_expenditure_log</th>  <td>4.3256</td>    <td>0.0568</td>   <td>76.206</td> <td>0.0000</td>   <td>4.2143</td>   <td>4.4369</td> \n",
       "</tr>\n",
       "</table><br/><br/><br/>id: 0x7ff9d9824358"
      ],
      "text/plain": [
       "                          PanelOLS Estimation Summary                           \n",
       "================================================================================\n",
       "Dep. Variable:        life_expectancy   R-squared:                        0.6558\n",
       "Estimator:                   PanelOLS   R-squared (Between):              0.6697\n",
       "No. Observations:                3050   R-squared (Within):               0.4457\n",
       "Date:                Mon, Jul 13 2020   R-squared (Overall):              0.6558\n",
       "Time:                        22:13:50   Log-likelihood                   -9442.5\n",
       "Cov. Estimator:            Unadjusted                                           \n",
       "                                        F-statistic:                      5807.3\n",
       "Entities:                         172   P-value                           0.0000\n",
       "Avg Obs:                       17.733   Distribution:                  F(1,3048)\n",
       "Min Obs:                       1.0000                                           \n",
       "Max Obs:                       18.000   F-statistic (robust):             5807.3\n",
       "                                        P-value                           0.0000\n",
       "Time periods:                      18   Distribution:                  F(1,3048)\n",
       "Avg Obs:                       169.44                                           \n",
       "Min Obs:                       168.00                                           \n",
       "Max Obs:                       171.00                                           \n",
       "                                                                                \n",
       "                                   Parameter Estimates                                    \n",
       "==========================================================================================\n",
       "                        Parameter  Std. Err.     T-stat    P-value    Lower CI    Upper CI\n",
       "------------------------------------------------------------------------------------------\n",
       "Intercept                  45.973     0.3269     140.63     0.0000      45.332      46.614\n",
       "health_expenditure_log     4.3256     0.0568     76.206     0.0000      4.2143      4.4369\n",
       "==========================================================================================\n",
       "\n",
       "\n",
       "PanelEffectsResults, id: 0x7ff9d9824358"
      ]
     },
     "execution_count": 13,
     "metadata": {},
     "output_type": "execute_result"
    }
   ],
   "source": [
    "from linearmodels import PanelOLS\n",
    "mod = PanelOLS.from_formula(\"life_expectancy ~ 1+ health_expenditure_log\",data)\n",
    "res = mod.fit()\n",
    "res"
   ]
  },
  {
   "cell_type": "markdown",
   "metadata": {},
   "source": [
    "With no extra parameters in the formula, the behavior of PanelOLS is similar to PooledOLS. But we can try with `EntityEffects`. A flag whether to include entity (fixed) effects in the model"
   ]
  },
  {
   "cell_type": "code",
   "execution_count": 14,
   "metadata": {},
   "outputs": [
    {
     "data": {
      "text/html": [
       "<table class=\"simpletable\">\n",
       "<caption>PanelOLS Estimation Summary</caption>\n",
       "<tr>\n",
       "  <th>Dep. Variable:</th>     <td>life_expectancy</td> <th>  R-squared:         </th>    <td>0.4886</td>  \n",
       "</tr>\n",
       "<tr>\n",
       "  <th>Estimator:</th>            <td>PanelOLS</td>     <th>  R-squared (Between):</th>   <td>0.6300</td>  \n",
       "</tr>\n",
       "<tr>\n",
       "  <th>No. Observations:</th>       <td>3050</td>       <th>  R-squared (Within):</th>    <td>0.4886</td>  \n",
       "</tr>\n",
       "<tr>\n",
       "  <th>Date:</th>             <td>Mon, Jul 13 2020</td> <th>  R-squared (Overall):</th>   <td>0.6215</td>  \n",
       "</tr>\n",
       "<tr>\n",
       "  <th>Time:</th>                 <td>22:13:51</td>     <th>  Log-likelihood     </th>    <td>-5690.3</td> \n",
       "</tr>\n",
       "<tr>\n",
       "  <th>Cov. Estimator:</th>      <td>Unadjusted</td>    <th>                     </th>       <td></td>     \n",
       "</tr>\n",
       "<tr>\n",
       "  <th></th>                          <td></td>         <th>  F-statistic:       </th>    <td>2749.0</td>  \n",
       "</tr>\n",
       "<tr>\n",
       "  <th>Entities:</th>                <td>172</td>       <th>  P-value            </th>    <td>0.0000</td>  \n",
       "</tr>\n",
       "<tr>\n",
       "  <th>Avg Obs:</th>               <td>17.733</td>      <th>  Distribution:      </th>   <td>F(1,2877)</td>\n",
       "</tr>\n",
       "<tr>\n",
       "  <th>Min Obs:</th>               <td>1.0000</td>      <th>                     </th>       <td></td>     \n",
       "</tr>\n",
       "<tr>\n",
       "  <th>Max Obs:</th>               <td>18.000</td>      <th>  F-statistic (robust):</th>  <td>2749.0</td>  \n",
       "</tr>\n",
       "<tr>\n",
       "  <th></th>                          <td></td>         <th>  P-value            </th>    <td>0.0000</td>  \n",
       "</tr>\n",
       "<tr>\n",
       "  <th>Time periods:</th>            <td>18</td>        <th>  Distribution:      </th>   <td>F(1,2877)</td>\n",
       "</tr>\n",
       "<tr>\n",
       "  <th>Avg Obs:</th>               <td>169.44</td>      <th>                     </th>       <td></td>     \n",
       "</tr>\n",
       "<tr>\n",
       "  <th>Min Obs:</th>               <td>168.00</td>      <th>                     </th>       <td></td>     \n",
       "</tr>\n",
       "<tr>\n",
       "  <th>Max Obs:</th>               <td>171.00</td>      <th>                     </th>       <td></td>     \n",
       "</tr>\n",
       "<tr>\n",
       "  <th></th>                          <td></td>         <th>                     </th>       <td></td>     \n",
       "</tr>\n",
       "</table>\n",
       "<table class=\"simpletable\">\n",
       "<caption>Parameter Estimates</caption>\n",
       "<tr>\n",
       "             <td></td>            <th>Parameter</th> <th>Std. Err.</th> <th>T-stat</th> <th>P-value</th> <th>Lower CI</th> <th>Upper CI</th>\n",
       "</tr>\n",
       "<tr>\n",
       "  <th>Intercept</th>               <td>51.410</td>    <td>0.3513</td>   <td>146.35</td> <td>0.0000</td>   <td>50.721</td>   <td>52.099</td> \n",
       "</tr>\n",
       "<tr>\n",
       "  <th>health_expenditure_log</th>  <td>3.3371</td>    <td>0.0636</td>   <td>52.431</td> <td>0.0000</td>   <td>3.2123</td>   <td>3.4619</td> \n",
       "</tr>\n",
       "</table><br/><br/>F-test for Poolability: 180.19<br/>P-value: 0.0000<br/>Distribution: F(171,2877)<br/><br/>Included effects: Entity<br/>id: 0x7ff9d9857470"
      ],
      "text/plain": [
       "                          PanelOLS Estimation Summary                           \n",
       "================================================================================\n",
       "Dep. Variable:        life_expectancy   R-squared:                        0.4886\n",
       "Estimator:                   PanelOLS   R-squared (Between):              0.6300\n",
       "No. Observations:                3050   R-squared (Within):               0.4886\n",
       "Date:                Mon, Jul 13 2020   R-squared (Overall):              0.6215\n",
       "Time:                        22:13:51   Log-likelihood                   -5690.3\n",
       "Cov. Estimator:            Unadjusted                                           \n",
       "                                        F-statistic:                      2749.0\n",
       "Entities:                         172   P-value                           0.0000\n",
       "Avg Obs:                       17.733   Distribution:                  F(1,2877)\n",
       "Min Obs:                       1.0000                                           \n",
       "Max Obs:                       18.000   F-statistic (robust):             2749.0\n",
       "                                        P-value                           0.0000\n",
       "Time periods:                      18   Distribution:                  F(1,2877)\n",
       "Avg Obs:                       169.44                                           \n",
       "Min Obs:                       168.00                                           \n",
       "Max Obs:                       171.00                                           \n",
       "                                                                                \n",
       "                                   Parameter Estimates                                    \n",
       "==========================================================================================\n",
       "                        Parameter  Std. Err.     T-stat    P-value    Lower CI    Upper CI\n",
       "------------------------------------------------------------------------------------------\n",
       "Intercept                  51.410     0.3513     146.35     0.0000      50.721      52.099\n",
       "health_expenditure_log     3.3371     0.0636     52.431     0.0000      3.2123      3.4619\n",
       "==========================================================================================\n",
       "\n",
       "F-test for Poolability: 180.19\n",
       "P-value: 0.0000\n",
       "Distribution: F(171,2877)\n",
       "\n",
       "Included effects: Entity\n",
       "PanelEffectsResults, id: 0x7ff9d9857470"
      ]
     },
     "execution_count": 14,
     "metadata": {},
     "output_type": "execute_result"
    }
   ],
   "source": [
    "from linearmodels import PanelOLS\n",
    "mod = PanelOLS.from_formula(\"life_expectancy ~ 1+ health_expenditure_log + EntityEffects\",data)\n",
    "res = mod.fit()\n",
    "res"
   ]
  },
  {
   "cell_type": "markdown",
   "metadata": {},
   "source": [
    "`R-squared (Within)` has slightly increased from 0.446 to 0.489. At the cost of decrease both `R-squared (Between)` and `R-squared (Overall)`\n",
    "\n",
    "By default **FixedEffects** uses only means and does note require constructing dummy variables for each effect. We'll try also with `use_lsdv=True` for Least Squares Dummy Variable implementation. And check we got exactly the same results."
   ]
  },
  {
   "cell_type": "code",
   "execution_count": 15,
   "metadata": {},
   "outputs": [
    {
     "data": {
      "text/html": [
       "<table class=\"simpletable\">\n",
       "<caption>PanelOLS Estimation Summary</caption>\n",
       "<tr>\n",
       "  <th>Dep. Variable:</th>     <td>life_expectancy</td> <th>  R-squared:         </th>    <td>0.4886</td>  \n",
       "</tr>\n",
       "<tr>\n",
       "  <th>Estimator:</th>            <td>PanelOLS</td>     <th>  R-squared (Between):</th>   <td>0.6300</td>  \n",
       "</tr>\n",
       "<tr>\n",
       "  <th>No. Observations:</th>       <td>3050</td>       <th>  R-squared (Within):</th>    <td>0.4886</td>  \n",
       "</tr>\n",
       "<tr>\n",
       "  <th>Date:</th>             <td>Mon, Jul 13 2020</td> <th>  R-squared (Overall):</th>   <td>0.6215</td>  \n",
       "</tr>\n",
       "<tr>\n",
       "  <th>Time:</th>                 <td>22:13:51</td>     <th>  Log-likelihood     </th>    <td>-5690.3</td> \n",
       "</tr>\n",
       "<tr>\n",
       "  <th>Cov. Estimator:</th>      <td>Unadjusted</td>    <th>                     </th>       <td></td>     \n",
       "</tr>\n",
       "<tr>\n",
       "  <th></th>                          <td></td>         <th>  F-statistic:       </th>    <td>2749.0</td>  \n",
       "</tr>\n",
       "<tr>\n",
       "  <th>Entities:</th>                <td>172</td>       <th>  P-value            </th>    <td>0.0000</td>  \n",
       "</tr>\n",
       "<tr>\n",
       "  <th>Avg Obs:</th>               <td>17.733</td>      <th>  Distribution:      </th>   <td>F(1,2877)</td>\n",
       "</tr>\n",
       "<tr>\n",
       "  <th>Min Obs:</th>               <td>1.0000</td>      <th>                     </th>       <td></td>     \n",
       "</tr>\n",
       "<tr>\n",
       "  <th>Max Obs:</th>               <td>18.000</td>      <th>  F-statistic (robust):</th>  <td>2749.0</td>  \n",
       "</tr>\n",
       "<tr>\n",
       "  <th></th>                          <td></td>         <th>  P-value            </th>    <td>0.0000</td>  \n",
       "</tr>\n",
       "<tr>\n",
       "  <th>Time periods:</th>            <td>18</td>        <th>  Distribution:      </th>   <td>F(1,2877)</td>\n",
       "</tr>\n",
       "<tr>\n",
       "  <th>Avg Obs:</th>               <td>169.44</td>      <th>                     </th>       <td></td>     \n",
       "</tr>\n",
       "<tr>\n",
       "  <th>Min Obs:</th>               <td>168.00</td>      <th>                     </th>       <td></td>     \n",
       "</tr>\n",
       "<tr>\n",
       "  <th>Max Obs:</th>               <td>171.00</td>      <th>                     </th>       <td></td>     \n",
       "</tr>\n",
       "<tr>\n",
       "  <th></th>                          <td></td>         <th>                     </th>       <td></td>     \n",
       "</tr>\n",
       "</table>\n",
       "<table class=\"simpletable\">\n",
       "<caption>Parameter Estimates</caption>\n",
       "<tr>\n",
       "             <td></td>            <th>Parameter</th> <th>Std. Err.</th> <th>T-stat</th> <th>P-value</th> <th>Lower CI</th> <th>Upper CI</th>\n",
       "</tr>\n",
       "<tr>\n",
       "  <th>Intercept</th>               <td>51.410</td>    <td>0.3513</td>   <td>146.35</td> <td>0.0000</td>   <td>50.721</td>   <td>52.099</td> \n",
       "</tr>\n",
       "<tr>\n",
       "  <th>health_expenditure_log</th>  <td>3.3371</td>    <td>0.0636</td>   <td>52.431</td> <td>0.0000</td>   <td>3.2123</td>   <td>3.4619</td> \n",
       "</tr>\n",
       "</table><br/><br/>F-test for Poolability: 180.19<br/>P-value: 0.0000<br/>Distribution: F(171,2877)<br/><br/>Included effects: Entity<br/>id: 0x7ff9d9dddbe0"
      ],
      "text/plain": [
       "                          PanelOLS Estimation Summary                           \n",
       "================================================================================\n",
       "Dep. Variable:        life_expectancy   R-squared:                        0.4886\n",
       "Estimator:                   PanelOLS   R-squared (Between):              0.6300\n",
       "No. Observations:                3050   R-squared (Within):               0.4886\n",
       "Date:                Mon, Jul 13 2020   R-squared (Overall):              0.6215\n",
       "Time:                        22:13:51   Log-likelihood                   -5690.3\n",
       "Cov. Estimator:            Unadjusted                                           \n",
       "                                        F-statistic:                      2749.0\n",
       "Entities:                         172   P-value                           0.0000\n",
       "Avg Obs:                       17.733   Distribution:                  F(1,2877)\n",
       "Min Obs:                       1.0000                                           \n",
       "Max Obs:                       18.000   F-statistic (robust):             2749.0\n",
       "                                        P-value                           0.0000\n",
       "Time periods:                      18   Distribution:                  F(1,2877)\n",
       "Avg Obs:                       169.44                                           \n",
       "Min Obs:                       168.00                                           \n",
       "Max Obs:                       171.00                                           \n",
       "                                                                                \n",
       "                                   Parameter Estimates                                    \n",
       "==========================================================================================\n",
       "                        Parameter  Std. Err.     T-stat    P-value    Lower CI    Upper CI\n",
       "------------------------------------------------------------------------------------------\n",
       "Intercept                  51.410     0.3513     146.35     0.0000      50.721      52.099\n",
       "health_expenditure_log     3.3371     0.0636     52.431     0.0000      3.2123      3.4619\n",
       "==========================================================================================\n",
       "\n",
       "F-test for Poolability: 180.19\n",
       "P-value: 0.0000\n",
       "Distribution: F(171,2877)\n",
       "\n",
       "Included effects: Entity\n",
       "PanelEffectsResults, id: 0x7ff9d9dddbe0"
      ]
     },
     "execution_count": 15,
     "metadata": {},
     "output_type": "execute_result"
    }
   ],
   "source": [
    "from linearmodels import RandomEffects\n",
    "mod = PanelOLS.from_formula(\"life_expectancy ~ 1+ health_expenditure_log + EntityEffects\",data)\n",
    "res = mod.fit(use_lsdv=True)\n",
    "res"
   ]
  },
  {
   "cell_type": "markdown",
   "metadata": {},
   "source": [
    "The **Random Effects** Model can be considered another variant of OLS for panel data. In  the  random  effects  model,  the  individual-specific  effect  is  a  randomvariable that is uncorrelated with the explanatory variables [Source](https://www.schmidheiny.name/teaching/panel2up.pdf)"
   ]
  },
  {
   "cell_type": "code",
   "execution_count": 16,
   "metadata": {},
   "outputs": [
    {
     "data": {
      "text/html": [
       "<table class=\"simpletable\">\n",
       "<caption>RandomEffects Estimation Summary</caption>\n",
       "<tr>\n",
       "  <th>Dep. Variable:</th>     <td>life_expectancy</td> <th>  R-squared:         </th>    <td>0.5056</td>  \n",
       "</tr>\n",
       "<tr>\n",
       "  <th>Estimator:</th>          <td>RandomEffects</td>  <th>  R-squared (Between):</th>   <td>0.6352</td>  \n",
       "</tr>\n",
       "<tr>\n",
       "  <th>No. Observations:</th>       <td>3050</td>       <th>  R-squared (Within):</th>    <td>0.4884</td>  \n",
       "</tr>\n",
       "<tr>\n",
       "  <th>Date:</th>             <td>Mon, Jul 13 2020</td> <th>  R-squared (Overall):</th>   <td>0.6263</td>  \n",
       "</tr>\n",
       "<tr>\n",
       "  <th>Time:</th>                 <td>22:13:51</td>     <th>  Log-likelihood     </th>    <td>-5787.4</td> \n",
       "</tr>\n",
       "<tr>\n",
       "  <th>Cov. Estimator:</th>      <td>Unadjusted</td>    <th>                     </th>       <td></td>     \n",
       "</tr>\n",
       "<tr>\n",
       "  <th></th>                          <td></td>         <th>  F-statistic:       </th>    <td>3117.2</td>  \n",
       "</tr>\n",
       "<tr>\n",
       "  <th>Entities:</th>                <td>172</td>       <th>  P-value            </th>    <td>0.0000</td>  \n",
       "</tr>\n",
       "<tr>\n",
       "  <th>Avg Obs:</th>               <td>17.733</td>      <th>  Distribution:      </th>   <td>F(1,3048)</td>\n",
       "</tr>\n",
       "<tr>\n",
       "  <th>Min Obs:</th>               <td>1.0000</td>      <th>                     </th>       <td></td>     \n",
       "</tr>\n",
       "<tr>\n",
       "  <th>Max Obs:</th>               <td>18.000</td>      <th>  F-statistic (robust):</th>  <td>3056.4</td>  \n",
       "</tr>\n",
       "<tr>\n",
       "  <th></th>                          <td></td>         <th>  P-value            </th>    <td>0.0000</td>  \n",
       "</tr>\n",
       "<tr>\n",
       "  <th>Time periods:</th>            <td>18</td>        <th>  Distribution:      </th>   <td>F(1,3048)</td>\n",
       "</tr>\n",
       "<tr>\n",
       "  <th>Avg Obs:</th>               <td>169.44</td>      <th>                     </th>       <td></td>     \n",
       "</tr>\n",
       "<tr>\n",
       "  <th>Min Obs:</th>               <td>168.00</td>      <th>                     </th>       <td></td>     \n",
       "</tr>\n",
       "<tr>\n",
       "  <th>Max Obs:</th>               <td>171.00</td>      <th>                     </th>       <td></td>     \n",
       "</tr>\n",
       "<tr>\n",
       "  <th></th>                          <td></td>         <th>                     </th>       <td></td>     \n",
       "</tr>\n",
       "</table>\n",
       "<table class=\"simpletable\">\n",
       "<caption>Parameter Estimates</caption>\n",
       "<tr>\n",
       "             <td></td>            <th>Parameter</th> <th>Std. Err.</th> <th>T-stat</th> <th>P-value</th> <th>Lower CI</th> <th>Upper CI</th>\n",
       "</tr>\n",
       "<tr>\n",
       "  <th>Intercept</th>               <td>50.977</td>    <td>0.5175</td>   <td>98.498</td> <td>0.0000</td>   <td>49.963</td>   <td>51.992</td> \n",
       "</tr>\n",
       "<tr>\n",
       "  <th>health_expenditure_log</th>  <td>3.4091</td>    <td>0.0617</td>   <td>55.285</td> <td>0.0000</td>   <td>3.2882</td>   <td>3.5300</td> \n",
       "</tr>\n",
       "</table><br/>id: 0x7ff9d981e470"
      ],
      "text/plain": [
       "                        RandomEffects Estimation Summary                        \n",
       "================================================================================\n",
       "Dep. Variable:        life_expectancy   R-squared:                        0.5056\n",
       "Estimator:              RandomEffects   R-squared (Between):              0.6352\n",
       "No. Observations:                3050   R-squared (Within):               0.4884\n",
       "Date:                Mon, Jul 13 2020   R-squared (Overall):              0.6263\n",
       "Time:                        22:13:51   Log-likelihood                   -5787.4\n",
       "Cov. Estimator:            Unadjusted                                           \n",
       "                                        F-statistic:                      3117.2\n",
       "Entities:                         172   P-value                           0.0000\n",
       "Avg Obs:                       17.733   Distribution:                  F(1,3048)\n",
       "Min Obs:                       1.0000                                           \n",
       "Max Obs:                       18.000   F-statistic (robust):             3056.4\n",
       "                                        P-value                           0.0000\n",
       "Time periods:                      18   Distribution:                  F(1,3048)\n",
       "Avg Obs:                       169.44                                           \n",
       "Min Obs:                       168.00                                           \n",
       "Max Obs:                       171.00                                           \n",
       "                                                                                \n",
       "                                   Parameter Estimates                                    \n",
       "==========================================================================================\n",
       "                        Parameter  Std. Err.     T-stat    P-value    Lower CI    Upper CI\n",
       "------------------------------------------------------------------------------------------\n",
       "Intercept                  50.977     0.5175     98.498     0.0000      49.963      51.992\n",
       "health_expenditure_log     3.4091     0.0617     55.285     0.0000      3.2882      3.5300\n",
       "==========================================================================================\n",
       "RandomEffectsResults, id: 0x7ff9d981e470"
      ]
     },
     "execution_count": 16,
     "metadata": {},
     "output_type": "execute_result"
    }
   ],
   "source": [
    "from linearmodels import RandomEffects\n",
    "mod = RandomEffects.from_formula(\"life_expectancy ~ 1+ health_expenditure_log\",data)\n",
    "res = mod.fit()\n",
    "res"
   ]
  },
  {
   "cell_type": "markdown",
   "metadata": {},
   "source": [
    "In this case, with RandomEffects we got same `R-squared (Within)` than Fixed Entity Effects, 0.4884, but slightly higher `R-squared (Between)` and consequently `R-squared (Overall)`. Anyway both lower than in case of PooledOLS model"
   ]
  },
  {
   "cell_type": "markdown",
   "metadata": {},
   "source": [
    "#### 3.3.- Scikit-learn implementation\n",
    "\n",
    "First model: sklearn.linear_model.LinearRegression (OLS) with default parameters (intercept=True)"
   ]
  },
  {
   "cell_type": "code",
   "execution_count": 17,
   "metadata": {},
   "outputs": [
    {
     "name": "stdout",
     "output_type": "stream",
     "text": [
      "Coefficients: \n",
      " [4.32561585]\n",
      "Intercept: \n",
      " 45.97283057246861\n",
      "Root mean squared error: 5.35 (years)\n",
      "Mean absolute error: 3.93 (years)\n",
      "Coefficient of determination (r2_score): 0.656\n"
     ]
    }
   ],
   "source": [
    "from sklearn import datasets\n",
    "from sklearn.metrics import mean_squared_error,mean_absolute_error, r2_score\n",
    "from sklearn.linear_model import LinearRegression\n",
    "\n",
    "x = data.loc[:,'health_expenditure_log'].values.reshape(-1,1)\n",
    "y = data.loc[:,'life_expectancy']#.values.reshape(-1,1)\n",
    "\n",
    "# We won't do the typical train_test_split in order to compare exactly with the previous models on the training set\n",
    "# If we would like our model to generalize, we should preferable do train_test_split, or similar technique\n",
    "#X_train, X_test, y_train, y_test = train_test_split(x, y, test_size=0.2, random_state=42)\n",
    "X_train = x\n",
    "y_train = y\n",
    "X_test = x\n",
    "y_test = y\n",
    "\n",
    "model = LinearRegression()\n",
    "model.fit(X_train, y_train)\n",
    "\n",
    "y_pred = model.predict(X_test)\n",
    "\n",
    "# The coefficients\n",
    "print('Coefficients: \\n', model.coef_)\n",
    "# The intercept\n",
    "print('Intercept: \\n', model.intercept_)\n",
    "# The root mean squared error\n",
    "print('Root mean squared error: {:.2f} (years)'.format(np.sqrt(mean_squared_error(y_test, y_pred))))\n",
    "# The mean absolute error\n",
    "print('Mean absolute error: {:.2f} (years)'.format(mean_absolute_error(y_test, y_pred)))\n",
    "# The coefficient of determination: 1 is perfect prediction\n",
    "\n",
    "y_pred = model.intercept_+np.sum(x* model.coef_, axis=1)\n",
    "print('Coefficient of determination (r2_score): {:.3f}'.format(r2_score(y_test, y_pred)))"
   ]
  },
  {
   "cell_type": "markdown",
   "metadata": {},
   "source": [
    "We get same coefficient 4.326 as with `statsmodels` (api.OLS) and `linearmodels` (PooledOLS and PanelOLS without EntityEffects). And same coefficient of determination `r2_score` (`R-squared (Overall)`)\n",
    "\n",
    "We can study the asymmetry of the coefficient of determination and its relation to Pearson's correlation metric by comparing the results from different R2 implementations:"
   ]
  },
  {
   "cell_type": "code",
   "execution_count": 18,
   "metadata": {},
   "outputs": [
    {
     "name": "stdout",
     "output_type": "stream",
     "text": [
      "r2_score is not symmetric, and we can compare 0.656 and 0.475\n",
      "my_r2_score as (1 - u/v) is not symmetric, and we can compare 0.656 and 0.475\n",
      "\n",
      "Other implementations of R2:\n",
      "R2 from scipy.stats.linregress squared: 0.656\n",
      "R2 from corrcoef squared: 0.656\n"
     ]
    },
    {
     "name": "stderr",
     "output_type": "stream",
     "text": [
      "/home/milhouse/tools/virtualenvs/worldindata/lib/python3.7/site-packages/scipy/stats/_stats_mstats_common.py:140: RuntimeWarning: invalid value encountered in sqrt\n",
      "  t = r * np.sqrt(df / ((1.0 - r + TINY)*(1.0 + r + TINY)))\n",
      "/home/milhouse/tools/virtualenvs/worldindata/lib/python3.7/site-packages/scipy/stats/_stats_mstats_common.py:142: RuntimeWarning: invalid value encountered in sqrt\n",
      "  sterrest = np.sqrt((1 - r**2) * ssym / ssxm / df)\n"
     ]
    }
   ],
   "source": [
    "print('r2_score is not symmetric, and we can compare {:.3f} and {:.3f}'.format(r2_score(y_test, y_pred),r2_score(y_pred, y_test)))\n",
    "\n",
    "#The coefficient R^2 is defined as (1 - u/v)\n",
    "def my_r2_score(y,x):\n",
    "    y_true = y\n",
    "    y_pred = x\n",
    "    u=((y_true - y_pred) ** 2).sum()\n",
    "    v=((y_true - y_true.mean()) ** 2).sum()\n",
    "    r2 = (1 - u/v)\n",
    "    return(r2)\n",
    "\n",
    "print('my_r2_score as (1 - u/v) is not symmetric, and we can compare {:.3f} and {:.3f}'.format(my_r2_score(y_test, y_pred),my_r2_score(y_pred, y_test)))\n",
    "\n",
    "print(\"\\nOther implementations of R2:\")\n",
    "import scipy\n",
    "def rsquared(x, y):\n",
    "    \"\"\" Return R^2 where x and y are array-like.\"\"\"\n",
    "    slope, intercept, r_value, p_value, std_err = scipy.stats.linregress(x, y)\n",
    "    return r_value**2\n",
    "print(\"R2 from scipy.stats.linregress squared: {:.3f}\".format(rsquared(X_train.reshape(1,-1),y_train)))\n",
    "\n",
    "def corrcoef_squared(x,y):\n",
    "    correlation_matrix = np.corrcoef(x, y)\n",
    "    correlation_xy = correlation_matrix[0,1]\n",
    "    r_squared = correlation_xy**2\n",
    "    return(r_squared)\n",
    "print(\"R2 from corrcoef squared: {:.3f}\".format(corrcoef_squared(X_train.reshape(1,-1),y_train)))\n",
    "\n",
    "# TODO why model.score get different coefficient of determination estimate? -936.12 vs 0.656\n",
    "# model.score(y_pred.reshape(-1,1),y_test)\n",
    "# model.score(y_pred.reshape(-1,1),y_test.values.reshape(-1,1))\n"
   ]
  },
  {
   "cell_type": "markdown",
   "metadata": {},
   "source": [
    "And finally we plot the data and model (again)"
   ]
  },
  {
   "cell_type": "code",
   "execution_count": 19,
   "metadata": {},
   "outputs": [
    {
     "data": {
      "image/png": "[encoded data removed]",
      "text/plain": [
       "<Figure size 432x288 with 1 Axes>"
      ]
     },
     "metadata": {
      "needs_background": "light"
     },
     "output_type": "display_data"
    }
   ],
   "source": [
    "plt.scatter(X_test, y_test,  color='black')\n",
    "plt.plot(X_test, y_pred, color='blue', linewidth=3)\n",
    "\n",
    "plt.xlabel('Health expenditure (log) [log $]')\n",
    "plt.ylabel('Life expectancy [years]')\n",
    "plt.show()"
   ]
  }
 ],
 "metadata": {
  "kernelspec": {
   "display_name": "worldindata",
   "language": "python",
   "name": "worldindata"
  },
  "language_info": {
   "codemirror_mode": {
    "name": "ipython",
    "version": 3
   },
   "file_extension": ".py",
   "mimetype": "text/x-python",
   "name": "python",
   "nbconvert_exporter": "python",
   "pygments_lexer": "ipython3",
   "version": "3.7.3"
  }
 },
 "nbformat": 4,
 "nbformat_minor": 2
}
